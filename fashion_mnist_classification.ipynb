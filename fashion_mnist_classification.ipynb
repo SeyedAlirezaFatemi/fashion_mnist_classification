{
 "cells": [
  {
   "cell_type": "markdown",
   "metadata": {
    "colab_type": "text",
    "id": "Dzy8S_3iaKlR"
   },
   "source": [
    "# Import Dependencies"
   ]
  },
  {
   "cell_type": "code",
   "execution_count": 1,
   "metadata": {
    "colab": {},
    "colab_type": "code",
    "id": "Sb_f3o4AKm-B",
    "pycharm": {
     "is_executing": false
    }
   },
   "outputs": [],
   "source": [
    "import numpy as np\n",
    "import cv2 as cv\n",
    "import matplotlib.pyplot as plt\n",
    "# Only for loading fashion mnist\n",
    "import tensorflow as tf"
   ]
  },
  {
   "cell_type": "markdown",
   "metadata": {
    "colab_type": "text",
    "id": "Cc-n2f7saR55"
   },
   "source": [
    "# Import Data"
   ]
  },
  {
   "cell_type": "code",
   "execution_count": 2,
   "metadata": {
    "colab": {},
    "colab_type": "code",
    "id": "hi45LsvFLHt7"
   },
   "outputs": [
    {
     "name": "stdout",
     "output_type": "stream",
     "text": [
      "Downloading data from https://storage.googleapis.com/tensorflow/tf-keras-datasets/train-labels-idx1-ubyte.gz\n",
      "32768/29515 [=================================] - 0s 6us/step\n",
      "Downloading data from https://storage.googleapis.com/tensorflow/tf-keras-datasets/train-images-idx3-ubyte.gz\n",
      "26427392/26421880 [==============================] - 44s 2us/step\n",
      "Downloading data from https://storage.googleapis.com/tensorflow/tf-keras-datasets/t10k-labels-idx1-ubyte.gz\n",
      "8192/5148 [===============================================] - 0s 0us/step\n",
      "Downloading data from https://storage.googleapis.com/tensorflow/tf-keras-datasets/t10k-images-idx3-ubyte.gz\n",
      "4423680/4422102 [==============================] - 8s 2us/step\n"
     ]
    }
   ],
   "source": [
    "(x_train, y_train), (x_test, y_test) = tf.keras.datasets.fashion_mnist.load_data()"
   ]
  },
  {
   "cell_type": "code",
   "execution_count": 3,
   "metadata": {
    "colab": {
     "base_uri": "https://localhost:8080/",
     "height": 51
    },
    "colab_type": "code",
    "id": "WMEev1rzLd8I",
    "outputId": "4e3796db-32f2-447d-f640-469dcb5d8afc"
   },
   "outputs": [
    {
     "name": "stdout",
     "output_type": "stream",
     "text": [
      "(60000, 28, 28)\n",
      "(10000, 28, 28)\n"
     ]
    }
   ],
   "source": [
    "print(x_train.shape)\n",
    "print(x_test.shape)"
   ]
  },
  {
   "cell_type": "markdown",
   "metadata": {
    "colab_type": "text",
    "id": "reDRJS4OaWYj"
   },
   "source": [
    "# Data Preprocessing"
   ]
  },
  {
   "cell_type": "code",
   "execution_count": 4,
   "metadata": {
    "colab": {},
    "colab_type": "code",
    "id": "rb9nSrByLjgy"
   },
   "outputs": [],
   "source": [
    "# https://www.learnopencv.com/handwritten-digits-classification-an-opencv-c-python-tutorial/\n",
    "# Feature extractor\n",
    "\n",
    "\n",
    "def extract_features(image):\n",
    "    \"\"\"\n",
    "    Calculate the Histogram of Oriented Gradients (HOG) descriptor.\n",
    "    \"\"\"\n",
    "    winSize = (20, 20)\n",
    "    blockSize = (10, 10)\n",
    "    blockStride = (5, 5)\n",
    "    cellSize = (10, 10)\n",
    "    nbins = 9\n",
    "    derivAperture = 1\n",
    "    winSigma = -1.\n",
    "    histogramNormType = 0\n",
    "    L2HysThreshold = 0.2\n",
    "    gammaCorrection = 1\n",
    "    nlevels = 64\n",
    "    signedGradients = True\n",
    "\n",
    "    hog = cv.HOGDescriptor(winSize, blockSize, blockStride, cellSize, nbins,\n",
    "                           derivAperture, winSigma, histogramNormType,\n",
    "                           L2HysThreshold, gammaCorrection, nlevels)\n",
    "    descriptor = hog.compute(image)\n",
    "    return descriptor\n",
    "\n",
    "\n",
    "def extract_corners(image):\n",
    "    corners = cv.goodFeaturesToTrack(image, 25, 0.01, 10)\n",
    "    corners = np.int0(corners)\n",
    "    return corners"
   ]
  },
  {
   "cell_type": "code",
   "execution_count": 5,
   "metadata": {
    "colab": {
     "base_uri": "https://localhost:8080/",
     "height": 34
    },
    "colab_type": "code",
    "id": "xOlRrrU7V9-3",
    "outputId": "81708567-668f-43c3-9f90-117fe6ff1400"
   },
   "outputs": [
    {
     "data": {
      "text/plain": [
       "(81, 1)"
      ]
     },
     "execution_count": 5,
     "metadata": {},
     "output_type": "execute_result"
    }
   ],
   "source": [
    "extract_features(x_train[0]).shape"
   ]
  },
  {
   "cell_type": "markdown",
   "metadata": {
    "colab_type": "text",
    "id": "56JFUZkjZd1_"
   },
   "source": [
    "## Extract Features"
   ]
  },
  {
   "cell_type": "code",
   "execution_count": 6,
   "metadata": {
    "colab": {},
    "colab_type": "code",
    "id": "xpwa2P9oTuCQ"
   },
   "outputs": [],
   "source": [
    "x_train = np.array([extract_features(image) for image in x_train])\n",
    "x_test = np.array([extract_features(image) for image in x_test])"
   ]
  },
  {
   "cell_type": "code",
   "execution_count": 7,
   "metadata": {
    "colab": {},
    "colab_type": "code",
    "id": "O24TBvdQatXC"
   },
   "outputs": [],
   "source": [
    "x_train = np.concatenate((x_train, np.ones((x_train.shape[0], 1, 1))), axis=1)\n",
    "x_test = np.concatenate((x_test, np.ones((x_test.shape[0], 1, 1))), axis=1)"
   ]
  },
  {
   "cell_type": "code",
   "execution_count": 8,
   "metadata": {
    "colab": {},
    "colab_type": "code",
    "id": "QryH6C7NjnLA"
   },
   "outputs": [],
   "source": [
    "x_train = np.squeeze(x_train)\n",
    "x_test = np.squeeze(x_test)"
   ]
  },
  {
   "cell_type": "code",
   "execution_count": 9,
   "metadata": {
    "colab": {
     "base_uri": "https://localhost:8080/",
     "height": 86
    },
    "colab_type": "code",
    "id": "YPB0Ts0LdG-i",
    "outputId": "cfbf037f-be1b-4752-9cb3-e72ed7b2d1cf"
   },
   "outputs": [
    {
     "name": "stdout",
     "output_type": "stream",
     "text": [
      "x_train: (60000, 82)\n",
      "y_train: (60000,)\n",
      "x_test:  (10000, 82)\n",
      "y_test:  (10000,)\n"
     ]
    }
   ],
   "source": [
    "print(\"x_train: \" + str(x_train.shape))\n",
    "print(\"y_train: \" + str(y_train.shape))\n",
    "print(\"x_test:  \" + str(x_test.shape))\n",
    "print(\"y_test:  \" + str(y_test.shape))"
   ]
  },
  {
   "cell_type": "code",
   "execution_count": 10,
   "metadata": {
    "colab": {},
    "colab_type": "code",
    "id": "wOXFKH-2XhXL"
   },
   "outputs": [],
   "source": [
    "n_classes = 10"
   ]
  },
  {
   "cell_type": "markdown",
   "metadata": {
    "colab_type": "text",
    "id": "J1Buhl4ddzjO"
   },
   "source": [
    "# Multiclass Perceptron Algorithm"
   ]
  },
  {
   "cell_type": "code",
   "execution_count": 11,
   "metadata": {
    "colab": {},
    "colab_type": "code",
    "id": "ck_xf4ISd0dm"
   },
   "outputs": [],
   "source": [
    "class MulticlassPerceptron:\n",
    "    def __init__(self, n_classes, n_epochs, input_dim, max_rate=0.1):\n",
    "        self.n_classes = n_classes\n",
    "        self.n_epochs = n_epochs\n",
    "        self.input_dim = input_dim\n",
    "        self.weights = [np.zeros(input_dim) for _ in range(n_classes)]\n",
    "        self.max_rate = max_rate\n",
    "        self.test_risks = []\n",
    "        self.train_risks = []\n",
    "\n",
    "    def predict(self, x):\n",
    "        scores = [np.inner(self.weights[label], x)\n",
    "                  for label in range(self.n_classes)]\n",
    "        return np.argmax(scores)\n",
    "\n",
    "    def loss(self, samples, labels):\n",
    "        wrongs = 0\n",
    "        for x_sample, y_sample in zip(samples, labels):\n",
    "            prediction = self.predict(x_sample)\n",
    "            if y_sample != prediction:\n",
    "                wrongs += 1\n",
    "        return wrongs / samples.shape[0]\n",
    "\n",
    "    def train(self, x_train, y_train, x_test, y_test, mira=False, verbose=False):\n",
    "        self.test_risks = []\n",
    "        self.train_risks = []\n",
    "        for epoch in range(1, self.n_epochs+1):\n",
    "            # Find the wrong sample\n",
    "            for x_sample, y_sample in zip(x_train, y_train):\n",
    "                prediction = self.predict(x_sample)\n",
    "                if y_sample != prediction:  # Is this sample predeicted wrongly?\n",
    "                    # Learn!\n",
    "                    rate = 1.\n",
    "                    if mira:\n",
    "                        rate = (np.inner(self.weights[prediction] - self.weights[y_sample], x_sample) + 1) / (\n",
    "                            2 * np.inner(x_sample, x_sample))\n",
    "                        rate = min(rate, self.max_rate)\n",
    "                    self.weights[y_sample] += rate * x_sample\n",
    "                    self.weights[prediction] -= rate * x_sample\n",
    "                    break\n",
    "                # All samples classified correctly. Time to return!\n",
    "            if epoch % 500 == 0:\n",
    "                test_risk = self.loss(x_test, y_test)\n",
    "                train_risk = self.loss(x_train, y_train)\n",
    "                self.test_risks.append((epoch, test_risk))\n",
    "                self.train_risks.append((epoch, train_risk))\n",
    "                if verbose:\n",
    "                    print(\n",
    "                        \"{:5d}: train loss = {:.4f} | test loss = {:.4f}\".format(epoch, train_risk, test_risk))\n",
    "        return\n",
    "\n",
    "    def plot_risks(self):\n",
    "        x, y = zip(*self.train_risks)\n",
    "        plt.plot(x, y, label='Train')\n",
    "        x, y = zip(*self.test_risks)\n",
    "        plt.plot(x, y, label='Test')\n",
    "        plt.ylabel('loss')\n",
    "        plt.xlabel('epoch')\n",
    "        plt.legend()\n",
    "\n",
    "    def save_weights(self, output_file_name):\n",
    "        np.save(output_file_name, self.weights)\n",
    "\n",
    "    def load_weights(self, file_name):\n",
    "        self.weights = np.load(file_name)"
   ]
  },
  {
   "cell_type": "code",
   "execution_count": 12,
   "metadata": {
    "colab": {
     "base_uri": "https://localhost:8080/",
     "height": 968
    },
    "colab_type": "code",
    "id": "Rn8uTFo5hJcT",
    "outputId": "84bd5769-caa2-4b8c-e957-0a007d8694b4"
   },
   "outputs": [
    {
     "name": "stdout",
     "output_type": "stream",
     "text": [
      "  500: train loss = 0.4611 | test loss = 0.4621\n",
      " 1000: train loss = 0.4894 | test loss = 0.4899\n",
      " 1500: train loss = 0.4127 | test loss = 0.4182\n",
      " 2000: train loss = 0.4545 | test loss = 0.4588\n",
      " 2500: train loss = 0.3689 | test loss = 0.3731\n",
      " 3000: train loss = 0.3813 | test loss = 0.3818\n",
      " 3500: train loss = 0.3908 | test loss = 0.3986\n",
      " 4000: train loss = 0.3876 | test loss = 0.3944\n",
      " 4500: train loss = 0.3781 | test loss = 0.3838\n",
      " 5000: train loss = 0.3803 | test loss = 0.3882\n",
      " 5500: train loss = 0.3866 | test loss = 0.3894\n",
      " 6000: train loss = 0.3682 | test loss = 0.3737\n",
      " 6500: train loss = 0.3649 | test loss = 0.3704\n",
      " 7000: train loss = 0.3577 | test loss = 0.3690\n",
      " 7500: train loss = 0.3478 | test loss = 0.3555\n",
      " 8000: train loss = 0.3649 | test loss = 0.3658\n",
      " 8500: train loss = 0.3710 | test loss = 0.3719\n",
      " 9000: train loss = 0.3475 | test loss = 0.3475\n",
      " 9500: train loss = 0.3489 | test loss = 0.3465\n",
      "10000: train loss = 0.3607 | test loss = 0.3663\n",
      "10500: train loss = 0.3587 | test loss = 0.3625\n",
      "11000: train loss = 0.3504 | test loss = 0.3546\n",
      "11500: train loss = 0.3474 | test loss = 0.3493\n",
      "12000: train loss = 0.3595 | test loss = 0.3616\n",
      "12500: train loss = 0.3554 | test loss = 0.3588\n",
      "13000: train loss = 0.3396 | test loss = 0.3450\n",
      "13500: train loss = 0.3332 | test loss = 0.3408\n",
      "14000: train loss = 0.3584 | test loss = 0.3640\n",
      "14500: train loss = 0.3443 | test loss = 0.3501\n",
      "15000: train loss = 0.3417 | test loss = 0.3467\n",
      "15500: train loss = 0.3423 | test loss = 0.3502\n",
      "16000: train loss = 0.3369 | test loss = 0.3468\n",
      "16500: train loss = 0.3301 | test loss = 0.3387\n",
      "17000: train loss = 0.3375 | test loss = 0.3443\n",
      "17500: train loss = 0.3540 | test loss = 0.3589\n",
      "18000: train loss = 0.3362 | test loss = 0.3457\n",
      "18500: train loss = 0.3314 | test loss = 0.3396\n",
      "19000: train loss = 0.3482 | test loss = 0.3575\n",
      "19500: train loss = 0.3465 | test loss = 0.3535\n",
      "20000: train loss = 0.3500 | test loss = 0.3567\n"
     ]
    },
    {
     "data": {
      "image/png": "[encoded data removed]",
      "text/plain": [
       "<Figure size 432x288 with 1 Axes>"
      ]
     },
     "metadata": {
      "needs_background": "light"
     },
     "output_type": "display_data"
    }
   ],
   "source": [
    "simple_clf = MulticlassPerceptron(n_classes, 20000, 82)\n",
    "simple_clf.train(x_train, y_train, x_test, y_test, verbose=True)\n",
    "simple_clf.plot_risks()\n",
    "simple_clf.save_weights('simple-clf-weights.npy')"
   ]
  },
  {
   "cell_type": "code",
   "execution_count": 13,
   "metadata": {
    "colab": {
     "base_uri": "https://localhost:8080/",
     "height": 968
    },
    "colab_type": "code",
    "id": "WiyheetaDTyu",
    "outputId": "e29a89d1-a149-4ed6-967e-e92e0e9ab6c5"
   },
   "outputs": [
    {
     "name": "stdout",
     "output_type": "stream",
     "text": [
      "  500: train loss = 0.5053 | test loss = 0.5054\n",
      " 1000: train loss = 0.4569 | test loss = 0.4612\n",
      " 1500: train loss = 0.4178 | test loss = 0.4216\n",
      " 2000: train loss = 0.3699 | test loss = 0.3732\n",
      " 2500: train loss = 0.3858 | test loss = 0.3907\n",
      " 3000: train loss = 0.3523 | test loss = 0.3571\n",
      " 3500: train loss = 0.3850 | test loss = 0.3920\n",
      " 4000: train loss = 0.3731 | test loss = 0.3822\n",
      " 4500: train loss = 0.3634 | test loss = 0.3713\n",
      " 5000: train loss = 0.3713 | test loss = 0.3761\n",
      " 5500: train loss = 0.3614 | test loss = 0.3705\n",
      " 6000: train loss = 0.3672 | test loss = 0.3673\n",
      " 6500: train loss = 0.3392 | test loss = 0.3464\n",
      " 7000: train loss = 0.3576 | test loss = 0.3611\n",
      " 7500: train loss = 0.3480 | test loss = 0.3495\n",
      " 8000: train loss = 0.3625 | test loss = 0.3656\n",
      " 8500: train loss = 0.3678 | test loss = 0.3664\n",
      " 9000: train loss = 0.3824 | test loss = 0.3863\n",
      " 9500: train loss = 0.3572 | test loss = 0.3618\n",
      "10000: train loss = 0.3399 | test loss = 0.3405\n",
      "10500: train loss = 0.3427 | test loss = 0.3477\n",
      "11000: train loss = 0.3816 | test loss = 0.3872\n",
      "11500: train loss = 0.3412 | test loss = 0.3444\n",
      "12000: train loss = 0.3347 | test loss = 0.3372\n",
      "12500: train loss = 0.3401 | test loss = 0.3462\n",
      "13000: train loss = 0.3377 | test loss = 0.3460\n",
      "13500: train loss = 0.3442 | test loss = 0.3496\n",
      "14000: train loss = 0.3530 | test loss = 0.3593\n",
      "14500: train loss = 0.3421 | test loss = 0.3485\n",
      "15000: train loss = 0.3461 | test loss = 0.3549\n",
      "15500: train loss = 0.3284 | test loss = 0.3392\n",
      "16000: train loss = 0.3349 | test loss = 0.3425\n",
      "16500: train loss = 0.3474 | test loss = 0.3560\n",
      "17000: train loss = 0.3385 | test loss = 0.3468\n",
      "17500: train loss = 0.3457 | test loss = 0.3524\n",
      "18000: train loss = 0.3441 | test loss = 0.3485\n",
      "18500: train loss = 0.3435 | test loss = 0.3505\n",
      "19000: train loss = 0.3461 | test loss = 0.3512\n",
      "19500: train loss = 0.3459 | test loss = 0.3563\n",
      "20000: train loss = 0.3498 | test loss = 0.3550\n"
     ]
    },
    {
     "data": {
      "image/png": "[encoded data removed]",
      "text/plain": [
       "<Figure size 432x288 with 1 Axes>"
      ]
     },
     "metadata": {
      "needs_background": "light"
     },
     "output_type": "display_data"
    }
   ],
   "source": [
    "mira_clf = MulticlassPerceptron(n_classes, 20000, 82)\n",
    "mira_clf.train(x_train, y_train, x_test, y_test, mira=True, verbose=True)\n",
    "mira_clf.plot_risks()\n",
    "simple_clf.save_weights('mira-clf-weights.npy')"
   ]
  },
  {
   "cell_type": "markdown",
   "metadata": {
    "colab_type": "text",
    "id": "tJp6O5EZM3J7"
   },
   "source": [
    "# Kernelized Perceptron"
   ]
  },
  {
   "cell_type": "code",
   "execution_count": 17,
   "metadata": {
    "colab": {},
    "colab_type": "code",
    "id": "x0UMCXBGM2jD"
   },
   "outputs": [],
   "source": [
    "class KernelizedPerceptron:\n",
    "    def __init__(self, n_classes, n_epochs, input_dim, n_training_data):\n",
    "        self.n_classes = n_classes\n",
    "        self.n_epochs = n_epochs\n",
    "        self.input_dim = input_dim\n",
    "        self.n_training_data = n_training_data\n",
    "        self.alphas = np.array([np.zeros(n_training_data) for _ in range(n_classes)])\n",
    "        self.test_risks = []\n",
    "        self.train_risks = []\n",
    "\n",
    "    def predict(self, x):\n",
    "        scores = [0] * self.n_classes\n",
    "        for label in range(self.n_classes):\n",
    "            for sample_number in range(self.n_training_data):\n",
    "                if self.alphas[label][sample_number] == 0:\n",
    "                    continue\n",
    "                scores[label] += self.alphas[label][sample_number] * \\\n",
    "                    self.rbf(x, self.x_train[sample_number])\n",
    "        return np.argmax(scores)\n",
    "\n",
    "    def rbf(self, x, x_prime):\n",
    "        return np.exp(-1 * (np.linalg.norm(x - x_prime) ** 2))\n",
    "\n",
    "    def loss(self, samples, labels):\n",
    "        wrongs = 0\n",
    "        for x_sample, y_sample in zip(samples, labels):\n",
    "            prediction = self.predict(x_sample)\n",
    "            if y_sample != prediction:\n",
    "                wrongs += 1\n",
    "        return wrongs / samples.shape[0]\n",
    "\n",
    "    def train(self, x_train, y_train, x_test, y_test, mira=False, verbose=False):\n",
    "        self.x_train = x_train\n",
    "        self.test_risks = []\n",
    "        self.train_risks = []\n",
    "        for epoch in range(1, self.n_epochs+1):\n",
    "            # Find the wrong sample\n",
    "            for sample_number, sample in enumerate(zip(x_train, y_train)):\n",
    "                x_sample, y_sample = sample\n",
    "                prediction = self.predict(x_sample)\n",
    "                if y_sample != prediction:  # Is this sample predeicted wrongly?\n",
    "                    # Learn!\n",
    "                    self.alphas[y_sample][sample_number] += 1\n",
    "                    self.alphas[prediction][sample_number] -= 1\n",
    "                    break\n",
    "                # All samples classified correctly. Time to return!\n",
    "            if epoch % 500 == 0:\n",
    "                test_risk = self.loss(x_test, y_test)\n",
    "                train_risk = self.loss(x_train, y_train)\n",
    "                self.test_risks.append((epoch, test_risk))\n",
    "                self.train_risks.append((epoch, train_risk))\n",
    "                if verbose:\n",
    "                    print(\n",
    "                        \"{:5d}: train loss = {:.4f} | test loss = {:.4f}\".format(epoch, train_risk, test_risk))\n",
    "        return\n",
    "\n",
    "    def plot_risks(self):\n",
    "        x, y = zip(*self.train_risks)\n",
    "        plt.plot(x, y, label='Train')\n",
    "        x, y = zip(*self.test_risks)\n",
    "        plt.plot(x, y, label='Test')\n",
    "        plt.ylabel('loss')\n",
    "        plt.xlabel('epoch')\n",
    "        plt.legend()\n",
    "\n",
    "    def save_alphas(self, output_file_name):\n",
    "        np.save(output_file_name, self.alphas)\n",
    "\n",
    "    def load_alphas(self, file_name):\n",
    "        self.alphas = np.load(file_name)"
   ]
  },
  {
   "cell_type": "code",
   "execution_count": null,
   "metadata": {
    "colab": {},
    "colab_type": "code",
    "id": "z1cWrExFDTd1"
   },
   "outputs": [],
   "source": [
    "# Warning: This cell takes a lot of time to execute.\n",
    "kernelized_clf = KernelizedPerceptron(n_classes, 1000, 82, x_train.shape[0])\n",
    "kernelized_clf.train(x_train, y_train, x_test, y_test, verbose=True)\n",
    "kernelized_clf.plot_risks()\n",
    "kernelized_clf.save_alphas('kernelized-clf-alphas.npy')"
   ]
  },
  {
   "cell_type": "code",
   "execution_count": 27,
   "metadata": {},
   "outputs": [
    {
     "data": {
      "text/plain": [
       "0.286"
      ]
     },
     "execution_count": 27,
     "metadata": {},
     "output_type": "execute_result"
    }
   ],
   "source": [
    "kernelized_clf = KernelizedPerceptron(n_classes, 1, 82, x_train.shape[0])\n",
    "kernelized_clf.load_alphas('temp-clf-alphas.npy')\n",
    "kernelized_clf.train(x_train, y_train, x_test, y_test, verbose=True)\n",
    "kernelized_clf.loss(x_test, y_test)"
   ]
  },
  {
   "cell_type": "markdown",
   "metadata": {
    "colab_type": "text",
    "id": "QXxL3KAFDVAG"
   },
   "source": [
    "# New Features"
   ]
  },
  {
   "cell_type": "code",
   "execution_count": 40,
   "metadata": {
    "colab": {},
    "colab_type": "code",
    "id": "Y3QN7jwLksJd"
   },
   "outputs": [],
   "source": [
    "from tensorflow.keras.applications.vgg16 import VGG16\n",
    "from tensorflow.keras.preprocessing import image\n",
    "from tensorflow.keras.applications.vgg16 import preprocess_input\n",
    "import skimage.measure\n",
    "\n",
    "model = VGG16(weights='imagenet', include_top=False)\n",
    "(x_train, y_train), (x_test, y_test) = tf.keras.datasets.fashion_mnist.load_data()"
   ]
  },
  {
   "cell_type": "code",
   "execution_count": 41,
   "metadata": {
    "colab": {},
    "colab_type": "code",
    "id": "BIz8-V7SviQx"
   },
   "outputs": [],
   "source": [
    "# Another feature extractor\n",
    "def extract_features(image):\n",
    "    # Resize (224, 224)\n",
    "    image = cv.resize(image, (224, 224))\n",
    "    # Colorize\n",
    "    image = cv.cvtColor(image, cv.COLOR_GRAY2RGB)\n",
    "    image = np.expand_dims(image, axis=0)\n",
    "    image = preprocess_input(image)\n",
    "    # Extract features => (7, 7, 512)\n",
    "    features = model.predict(image)\n",
    "    features = features.squeeze()\n",
    "    # Average pooling\n",
    "    features = skimage.measure.block_reduce(features, (7, 7, 4), np.mean)\n",
    "    features = features.squeeze()\n",
    "    return features"
   ]
  },
  {
   "cell_type": "code",
   "execution_count": 42,
   "metadata": {
    "colab": {},
    "colab_type": "code",
    "id": "zGLsPoXY1Lwa"
   },
   "outputs": [
    {
     "data": {
      "text/plain": [
       "(128,)"
      ]
     },
     "execution_count": 42,
     "metadata": {},
     "output_type": "execute_result"
    }
   ],
   "source": [
    "extract_features(x_train[0]).shape"
   ]
  },
  {
   "cell_type": "code",
   "execution_count": null,
   "metadata": {
    "colab": {},
    "colab_type": "code",
    "id": "62U1y9EXy9IN"
   },
   "outputs": [],
   "source": [
    "# This cell takes a century to finish.\n",
    "# We will save the extracted features to a file.\n",
    "new_x_train = np.array([extract_features(image) for image in x_train])\n",
    "new_x_test = np.array([extract_features(image) for image in x_test])\n",
    "np.save('new_x_train', new_x_train)\n",
    "np.save('new_x_test', new_x_test)"
   ]
  },
  {
   "cell_type": "code",
   "execution_count": null,
   "metadata": {
    "colab": {},
    "colab_type": "code",
    "id": "0AQuRRwM_XVs"
   },
   "outputs": [],
   "source": []
  }
 ],
 "metadata": {
  "accelerator": "TPU",
  "colab": {
   "collapsed_sections": [],
   "name": "fashion-mnist-classification.ipynb",
   "provenance": [],
   "version": "0.3.2"
  },
  "kernelspec": {
   "display_name": "Python 3",
   "language": "python",
   "name": "python3"
  },
  "language_info": {
   "codemirror_mode": {
    "name": "ipython",
    "version": 3
   },
   "file_extension": ".py",
   "mimetype": "text/x-python",
   "name": "python",
   "nbconvert_exporter": "python",
   "pygments_lexer": "ipython3",
   "version": "3.7.3"
  },
  "toc": {
   "base_numbering": 1,
   "nav_menu": {},
   "number_sections": true,
   "sideBar": true,
   "skip_h1_title": false,
   "title_cell": "Table of Contents",
   "title_sidebar": "Contents",
   "toc_cell": false,
   "toc_position": {},
   "toc_section_display": true,
   "toc_window_display": false
  },
  "varInspector": {
   "cols": {
    "lenName": 16,
    "lenType": 16,
    "lenVar": 40
   },
   "kernels_config": {
    "python": {
     "delete_cmd_postfix": "",
     "delete_cmd_prefix": "del ",
     "library": "var_list.py",
     "varRefreshCmd": "print(var_dic_list())"
    },
    "r": {
     "delete_cmd_postfix": ") ",
     "delete_cmd_prefix": "rm(",
     "library": "var_list.r",
     "varRefreshCmd": "cat(var_dic_list()) "
    }
   },
   "types_to_exclude": [
    "module",
    "function",
    "builtin_function_or_method",
    "instance",
    "_Feature"
   ],
   "window_display": false
  }
 },
 "nbformat": 4,
 "nbformat_minor": 1
}
